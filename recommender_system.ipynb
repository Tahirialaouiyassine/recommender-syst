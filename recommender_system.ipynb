{
  "nbformat": 4,
  "nbformat_minor": 0,
  "metadata": {
    "colab": {
      "provenance": []
    },
    "kernelspec": {
      "name": "python3",
      "display_name": "Python 3"
    },
    "language_info": {
      "name": "python"
    }
  },
  "cells": [
    {
      "cell_type": "code",
      "source": [
        "pip install pyspark"
      ],
      "metadata": {
        "colab": {
          "base_uri": "https://localhost:8080/"
        },
        "id": "9cB8yIs4SUVv",
        "outputId": "fe41eaef-8cab-4675-d2df-6bc86bd56d84"
      },
      "execution_count": null,
      "outputs": [
        {
          "output_type": "stream",
          "name": "stdout",
          "text": [
            "Collecting pyspark\n",
            "  Downloading pyspark-3.5.1.tar.gz (317.0 MB)\n",
            "\u001b[2K     \u001b[90m━━━━━━━━━━━━━━━━━━━━━━━━━━━━━━━━━━━━━━━━\u001b[0m \u001b[32m317.0/317.0 MB\u001b[0m \u001b[31m2.6 MB/s\u001b[0m eta \u001b[36m0:00:00\u001b[0m\n",
            "\u001b[?25h  Preparing metadata (setup.py) ... \u001b[?25l\u001b[?25hdone\n",
            "Requirement already satisfied: py4j==0.10.9.7 in /usr/local/lib/python3.10/dist-packages (from pyspark) (0.10.9.7)\n",
            "Building wheels for collected packages: pyspark\n",
            "  Building wheel for pyspark (setup.py) ... \u001b[?25l\u001b[?25hdone\n",
            "  Created wheel for pyspark: filename=pyspark-3.5.1-py2.py3-none-any.whl size=317488491 sha256=f1e80da8a1a77fd702df68bb3170529dc31dc7baeaecbb6df24cdfd45cdfe86f\n",
            "  Stored in directory: /root/.cache/pip/wheels/80/1d/60/2c256ed38dddce2fdd93be545214a63e02fbd8d74fb0b7f3a6\n",
            "Successfully built pyspark\n",
            "Installing collected packages: pyspark\n",
            "Successfully installed pyspark-3.5.1\n"
          ]
        }
      ]
    },
    {
      "cell_type": "code",
      "source": [
        "pip install recommenders"
      ],
      "metadata": {
        "colab": {
          "base_uri": "https://localhost:8080/"
        },
        "id": "1MfTbIMiTKmT",
        "outputId": "9c9ec29b-efcb-44e5-be5a-9e0e7526501c"
      },
      "execution_count": null,
      "outputs": [
        {
          "output_type": "stream",
          "name": "stdout",
          "text": [
            "Collecting recommenders\n",
            "  Downloading recommenders-1.2.0-py3-none-any.whl (356 kB)\n",
            "\u001b[2K     \u001b[90m━━━━━━━━━━━━━━━━━━━━━━━━━━━━━━━━━━━━━━━━\u001b[0m \u001b[32m356.0/356.0 kB\u001b[0m \u001b[31m2.6 MB/s\u001b[0m eta \u001b[36m0:00:00\u001b[0m\n",
            "\u001b[?25hCollecting category-encoders<3,>=2.6.0 (from recommenders)\n",
            "  Downloading category_encoders-2.6.3-py2.py3-none-any.whl (81 kB)\n",
            "\u001b[2K     \u001b[90m━━━━━━━━━━━━━━━━━━━━━━━━━━━━━━━━━━━━━━━━\u001b[0m \u001b[32m81.9/81.9 kB\u001b[0m \u001b[31m11.0 MB/s\u001b[0m eta \u001b[36m0:00:00\u001b[0m\n",
            "\u001b[?25hCollecting cornac<2,>=1.15.2 (from recommenders)\n",
            "  Downloading cornac-1.18.0-cp310-cp310-manylinux1_x86_64.whl (21.3 MB)\n",
            "\u001b[2K     \u001b[90m━━━━━━━━━━━━━━━━━━━━━━━━━━━━━━━━━━━━━━━━\u001b[0m \u001b[32m21.3/21.3 MB\u001b[0m \u001b[31m12.9 MB/s\u001b[0m eta \u001b[36m0:00:00\u001b[0m\n",
            "\u001b[?25hRequirement already satisfied: hyperopt<1,>=0.2.7 in /usr/local/lib/python3.10/dist-packages (from recommenders) (0.2.7)\n",
            "Collecting lightfm<2,>=1.17 (from recommenders)\n",
            "  Downloading lightfm-1.17.tar.gz (316 kB)\n",
            "\u001b[2K     \u001b[90m━━━━━━━━━━━━━━━━━━━━━━━━━━━━━━━━━━━━━━━━\u001b[0m \u001b[32m316.4/316.4 kB\u001b[0m \u001b[31m33.9 MB/s\u001b[0m eta \u001b[36m0:00:00\u001b[0m\n",
            "\u001b[?25h  Preparing metadata (setup.py) ... \u001b[?25l\u001b[?25hdone\n",
            "Requirement already satisfied: lightgbm<5,>=4.0.0 in /usr/local/lib/python3.10/dist-packages (from recommenders) (4.1.0)\n",
            "Collecting locust<3,>=2.12.2 (from recommenders)\n",
            "  Downloading locust-2.27.0-py3-none-any.whl (1.4 MB)\n",
            "\u001b[2K     \u001b[90m━━━━━━━━━━━━━━━━━━━━━━━━━━━━━━━━━━━━━━━━\u001b[0m \u001b[32m1.4/1.4 MB\u001b[0m \u001b[31m70.1 MB/s\u001b[0m eta \u001b[36m0:00:00\u001b[0m\n",
            "\u001b[?25hCollecting memory-profiler<1,>=0.61.0 (from recommenders)\n",
            "  Downloading memory_profiler-0.61.0-py3-none-any.whl (31 kB)\n",
            "Requirement already satisfied: nltk<4,>=3.8.1 in /usr/local/lib/python3.10/dist-packages (from recommenders) (3.8.1)\n",
            "Collecting notebook<8,>=7.0.0 (from recommenders)\n",
            "  Downloading notebook-7.2.0-py3-none-any.whl (5.0 MB)\n",
            "\u001b[2K     \u001b[90m━━━━━━━━━━━━━━━━━━━━━━━━━━━━━━━━━━━━━━━━\u001b[0m \u001b[32m5.0/5.0 MB\u001b[0m \u001b[31m67.6 MB/s\u001b[0m eta \u001b[36m0:00:00\u001b[0m\n",
            "\u001b[?25hRequirement already satisfied: numba<1,>=0.57.0 in /usr/local/lib/python3.10/dist-packages (from recommenders) (0.58.1)\n",
            "Requirement already satisfied: pandas<3.0.0,>2.0.0 in /usr/local/lib/python3.10/dist-packages (from recommenders) (2.0.3)\n",
            "Collecting retrying<2,>=1.3.4 (from recommenders)\n",
            "  Downloading retrying-1.3.4-py3-none-any.whl (11 kB)\n",
            "Requirement already satisfied: scikit-learn<2,>=1.2.0 in /usr/local/lib/python3.10/dist-packages (from recommenders) (1.2.2)\n",
            "Collecting scikit-surprise>=1.1.3 (from recommenders)\n",
            "  Downloading scikit_surprise-1.1.4.tar.gz (154 kB)\n",
            "\u001b[2K     \u001b[90m━━━━━━━━━━━━━━━━━━━━━━━━━━━━━━━━━━━━━━━━\u001b[0m \u001b[32m154.4/154.4 kB\u001b[0m \u001b[31m17.5 MB/s\u001b[0m eta \u001b[36m0:00:00\u001b[0m\n",
            "\u001b[?25h  Installing build dependencies ... \u001b[?25l\u001b[?25hdone\n",
            "  Getting requirements to build wheel ... \u001b[?25l\u001b[?25hdone\n",
            "  Preparing metadata (pyproject.toml) ... \u001b[?25l\u001b[?25hdone\n",
            "Requirement already satisfied: scipy>=1.10.1 in /usr/local/lib/python3.10/dist-packages (from recommenders) (1.11.4)\n",
            "Requirement already satisfied: seaborn<1,>=0.13.0 in /usr/local/lib/python3.10/dist-packages (from recommenders) (0.13.1)\n",
            "Requirement already satisfied: transformers<5,>=4.27.0 in /usr/local/lib/python3.10/dist-packages (from recommenders) (4.40.2)\n",
            "Collecting pandera[strategies]>=0.15.0 (from recommenders)\n",
            "  Downloading pandera-0.19.3-py3-none-any.whl (251 kB)\n",
            "\u001b[2K     \u001b[90m━━━━━━━━━━━━━━━━━━━━━━━━━━━━━━━━━━━━━━━━\u001b[0m \u001b[32m251.9/251.9 kB\u001b[0m \u001b[31m28.9 MB/s\u001b[0m eta \u001b[36m0:00:00\u001b[0m\n",
            "\u001b[?25hRequirement already satisfied: numpy>=1.14.0 in /usr/local/lib/python3.10/dist-packages (from category-encoders<3,>=2.6.0->recommenders) (1.25.2)\n",
            "Requirement already satisfied: statsmodels>=0.9.0 in /usr/local/lib/python3.10/dist-packages (from category-encoders<3,>=2.6.0->recommenders) (0.14.2)\n",
            "Requirement already satisfied: patsy>=0.5.1 in /usr/local/lib/python3.10/dist-packages (from category-encoders<3,>=2.6.0->recommenders) (0.5.6)\n",
            "Requirement already satisfied: tqdm in /usr/local/lib/python3.10/dist-packages (from cornac<2,>=1.15.2->recommenders) (4.66.4)\n",
            "Collecting powerlaw (from cornac<2,>=1.15.2->recommenders)\n",
            "  Downloading powerlaw-1.5-py3-none-any.whl (24 kB)\n",
            "Requirement already satisfied: six in /usr/local/lib/python3.10/dist-packages (from hyperopt<1,>=0.2.7->recommenders) (1.16.0)\n",
            "Requirement already satisfied: networkx>=2.2 in /usr/local/lib/python3.10/dist-packages (from hyperopt<1,>=0.2.7->recommenders) (3.3)\n",
            "Requirement already satisfied: future in /usr/local/lib/python3.10/dist-packages (from hyperopt<1,>=0.2.7->recommenders) (0.18.3)\n",
            "Requirement already satisfied: cloudpickle in /usr/local/lib/python3.10/dist-packages (from hyperopt<1,>=0.2.7->recommenders) (2.2.1)\n",
            "Requirement already satisfied: py4j in /usr/local/lib/python3.10/dist-packages (from hyperopt<1,>=0.2.7->recommenders) (0.10.9.7)\n",
            "Requirement already satisfied: requests in /usr/local/lib/python3.10/dist-packages (from lightfm<2,>=1.17->recommenders) (2.31.0)\n",
            "Collecting gevent>=22.10.2 (from locust<3,>=2.12.2->recommenders)\n",
            "  Downloading gevent-24.2.1-cp310-cp310-manylinux_2_28_x86_64.whl (6.5 MB)\n",
            "\u001b[2K     \u001b[90m━━━━━━━━━━━━━━━━━━━━━━━━━━━━━━━━━━━━━━━━\u001b[0m \u001b[32m6.5/6.5 MB\u001b[0m \u001b[31m75.3 MB/s\u001b[0m eta \u001b[36m0:00:00\u001b[0m\n",
            "\u001b[?25hRequirement already satisfied: flask>=2.0.0 in /usr/local/lib/python3.10/dist-packages (from locust<3,>=2.12.2->recommenders) (2.2.5)\n",
            "Requirement already satisfied: Werkzeug>=2.0.0 in /usr/local/lib/python3.10/dist-packages (from locust<3,>=2.12.2->recommenders) (3.0.3)\n",
            "Requirement already satisfied: msgpack>=1.0.0 in /usr/local/lib/python3.10/dist-packages (from locust<3,>=2.12.2->recommenders) (1.0.8)\n",
            "Collecting pyzmq>=25.0.0 (from locust<3,>=2.12.2->recommenders)\n",
            "  Downloading pyzmq-26.0.3-cp310-cp310-manylinux_2_28_x86_64.whl (919 kB)\n",
            "\u001b[2K     \u001b[90m━━━━━━━━━━━━━━━━━━━━━━━━━━━━━━━━━━━━━━━━\u001b[0m \u001b[32m919.8/919.8 kB\u001b[0m \u001b[31m63.0 MB/s\u001b[0m eta \u001b[36m0:00:00\u001b[0m\n",
            "\u001b[?25hCollecting geventhttpclient==2.2.1 (from locust<3,>=2.12.2->recommenders)\n",
            "  Downloading geventhttpclient-2.2.1-cp310-cp310-manylinux_2_5_x86_64.manylinux1_x86_64.manylinux_2_17_x86_64.manylinux2014_x86_64.whl (128 kB)\n",
            "\u001b[2K     \u001b[90m━━━━━━━━━━━━━━━━━━━━━━━━━━━━━━━━━━━━━━━━\u001b[0m \u001b[32m128.8/128.8 kB\u001b[0m \u001b[31m18.2 MB/s\u001b[0m eta \u001b[36m0:00:00\u001b[0m\n",
            "\u001b[?25hCollecting ConfigArgParse>=1.5.5 (from locust<3,>=2.12.2->recommenders)\n",
            "  Downloading ConfigArgParse-1.7-py3-none-any.whl (25 kB)\n",
            "Requirement already satisfied: psutil>=5.9.1 in /usr/local/lib/python3.10/dist-packages (from locust<3,>=2.12.2->recommenders) (5.9.5)\n",
            "Collecting Flask-Login>=0.6.3 (from locust<3,>=2.12.2->recommenders)\n",
            "  Downloading Flask_Login-0.6.3-py3-none-any.whl (17 kB)\n",
            "Collecting Flask-Cors>=3.0.10 (from locust<3,>=2.12.2->recommenders)\n",
            "  Downloading Flask_Cors-4.0.1-py2.py3-none-any.whl (14 kB)\n",
            "Requirement already satisfied: tomli>=1.1.0 in /usr/local/lib/python3.10/dist-packages (from locust<3,>=2.12.2->recommenders) (2.0.1)\n",
            "Requirement already satisfied: certifi in /usr/local/lib/python3.10/dist-packages (from geventhttpclient==2.2.1->locust<3,>=2.12.2->recommenders) (2024.2.2)\n",
            "Collecting brotli (from geventhttpclient==2.2.1->locust<3,>=2.12.2->recommenders)\n",
            "  Downloading Brotli-1.1.0-cp310-cp310-manylinux_2_5_x86_64.manylinux1_x86_64.manylinux_2_12_x86_64.manylinux2010_x86_64.whl (3.0 MB)\n",
            "\u001b[2K     \u001b[90m━━━━━━━━━━━━━━━━━━━━━━━━━━━━━━━━━━━━━━━━\u001b[0m \u001b[32m3.0/3.0 MB\u001b[0m \u001b[31m99.1 MB/s\u001b[0m eta \u001b[36m0:00:00\u001b[0m\n",
            "\u001b[?25hRequirement already satisfied: urllib3 in /usr/local/lib/python3.10/dist-packages (from geventhttpclient==2.2.1->locust<3,>=2.12.2->recommenders) (2.0.7)\n",
            "Requirement already satisfied: click in /usr/local/lib/python3.10/dist-packages (from nltk<4,>=3.8.1->recommenders) (8.1.7)\n",
            "Requirement already satisfied: joblib in /usr/local/lib/python3.10/dist-packages (from nltk<4,>=3.8.1->recommenders) (1.4.2)\n",
            "Requirement already satisfied: regex>=2021.8.3 in /usr/local/lib/python3.10/dist-packages (from nltk<4,>=3.8.1->recommenders) (2023.12.25)\n",
            "Collecting jupyter-server<3,>=2.4.0 (from notebook<8,>=7.0.0->recommenders)\n",
            "  Downloading jupyter_server-2.14.0-py3-none-any.whl (383 kB)\n",
            "\u001b[2K     \u001b[90m━━━━━━━━━━━━━━━━━━━━━━━━━━━━━━━━━━━━━━━━\u001b[0m \u001b[32m383.3/383.3 kB\u001b[0m \u001b[31m34.6 MB/s\u001b[0m eta \u001b[36m0:00:00\u001b[0m\n",
            "\u001b[?25hCollecting jupyterlab-server<3,>=2.27.1 (from notebook<8,>=7.0.0->recommenders)\n",
            "  Downloading jupyterlab_server-2.27.1-py3-none-any.whl (59 kB)\n",
            "\u001b[2K     \u001b[90m━━━━━━━━━━━━━━━━━━━━━━━━━━━━━━━━━━━━━━━━\u001b[0m \u001b[32m59.3/59.3 kB\u001b[0m \u001b[31m7.2 MB/s\u001b[0m eta \u001b[36m0:00:00\u001b[0m\n",
            "\u001b[?25hCollecting jupyterlab<4.3,>=4.2.0 (from notebook<8,>=7.0.0->recommenders)\n",
            "  Downloading jupyterlab-4.2.0-py3-none-any.whl (11.6 MB)\n",
            "\u001b[2K     \u001b[90m━━━━━━━━━━━━━━━━━━━━━━━━━━━━━━━━━━━━━━━━\u001b[0m \u001b[32m11.6/11.6 MB\u001b[0m \u001b[31m66.6 MB/s\u001b[0m eta \u001b[36m0:00:00\u001b[0m\n",
            "\u001b[?25hRequirement already satisfied: notebook-shim<0.3,>=0.2 in /usr/local/lib/python3.10/dist-packages (from notebook<8,>=7.0.0->recommenders) (0.2.4)\n",
            "Requirement already satisfied: tornado>=6.2.0 in /usr/local/lib/python3.10/dist-packages (from notebook<8,>=7.0.0->recommenders) (6.3.3)\n",
            "Requirement already satisfied: llvmlite<0.42,>=0.41.0dev0 in /usr/local/lib/python3.10/dist-packages (from numba<1,>=0.57.0->recommenders) (0.41.1)\n",
            "Requirement already satisfied: python-dateutil>=2.8.2 in /usr/local/lib/python3.10/dist-packages (from pandas<3.0.0,>2.0.0->recommenders) (2.8.2)\n",
            "Requirement already satisfied: pytz>=2020.1 in /usr/local/lib/python3.10/dist-packages (from pandas<3.0.0,>2.0.0->recommenders) (2023.4)\n",
            "Requirement already satisfied: tzdata>=2022.1 in /usr/local/lib/python3.10/dist-packages (from pandas<3.0.0,>2.0.0->recommenders) (2024.1)\n",
            "Collecting multimethod<=1.10.0 (from pandera[strategies]>=0.15.0->recommenders)\n",
            "  Downloading multimethod-1.10-py3-none-any.whl (9.9 kB)\n",
            "Requirement already satisfied: packaging>=20.0 in /usr/local/lib/python3.10/dist-packages (from pandera[strategies]>=0.15.0->recommenders) (24.0)\n",
            "Requirement already satisfied: pydantic in /usr/local/lib/python3.10/dist-packages (from pandera[strategies]>=0.15.0->recommenders) (2.7.1)\n",
            "Collecting typeguard (from pandera[strategies]>=0.15.0->recommenders)\n",
            "  Downloading typeguard-4.2.1-py3-none-any.whl (34 kB)\n",
            "Collecting typing-inspect>=0.6.0 (from pandera[strategies]>=0.15.0->recommenders)\n",
            "  Downloading typing_inspect-0.9.0-py3-none-any.whl (8.8 kB)\n",
            "Requirement already satisfied: wrapt in /usr/local/lib/python3.10/dist-packages (from pandera[strategies]>=0.15.0->recommenders) (1.14.1)\n",
            "Collecting hypothesis>=6.92.7 (from pandera[strategies]>=0.15.0->recommenders)\n",
            "  Downloading hypothesis-6.102.4-py3-none-any.whl (462 kB)\n",
            "\u001b[2K     \u001b[90m━━━━━━━━━━━━━━━━━━━━━━━━━━━━━━━━━━━━━━━━\u001b[0m \u001b[32m462.5/462.5 kB\u001b[0m \u001b[31m41.8 MB/s\u001b[0m eta \u001b[36m0:00:00\u001b[0m\n",
            "\u001b[?25hRequirement already satisfied: threadpoolctl>=2.0.0 in /usr/local/lib/python3.10/dist-packages (from scikit-learn<2,>=1.2.0->recommenders) (3.5.0)\n",
            "Requirement already satisfied: matplotlib!=3.6.1,>=3.4 in /usr/local/lib/python3.10/dist-packages (from seaborn<1,>=0.13.0->recommenders) (3.7.1)\n",
            "Requirement already satisfied: filelock in /usr/local/lib/python3.10/dist-packages (from transformers<5,>=4.27.0->recommenders) (3.14.0)\n",
            "Requirement already satisfied: huggingface-hub<1.0,>=0.19.3 in /usr/local/lib/python3.10/dist-packages (from transformers<5,>=4.27.0->recommenders) (0.20.3)\n",
            "Requirement already satisfied: pyyaml>=5.1 in /usr/local/lib/python3.10/dist-packages (from transformers<5,>=4.27.0->recommenders) (6.0.1)\n",
            "Requirement already satisfied: tokenizers<0.20,>=0.19 in /usr/local/lib/python3.10/dist-packages (from transformers<5,>=4.27.0->recommenders) (0.19.1)\n",
            "Requirement already satisfied: safetensors>=0.4.1 in /usr/local/lib/python3.10/dist-packages (from transformers<5,>=4.27.0->recommenders) (0.4.3)\n",
            "Requirement already satisfied: Jinja2>=3.0 in /usr/local/lib/python3.10/dist-packages (from flask>=2.0.0->locust<3,>=2.12.2->recommenders) (3.1.4)\n",
            "Requirement already satisfied: itsdangerous>=2.0 in /usr/local/lib/python3.10/dist-packages (from flask>=2.0.0->locust<3,>=2.12.2->recommenders) (2.2.0)\n",
            "Collecting zope.event (from gevent>=22.10.2->locust<3,>=2.12.2->recommenders)\n",
            "  Downloading zope.event-5.0-py3-none-any.whl (6.8 kB)\n",
            "Collecting zope.interface (from gevent>=22.10.2->locust<3,>=2.12.2->recommenders)\n",
            "  Downloading zope.interface-6.4-cp310-cp310-manylinux_2_5_x86_64.manylinux1_x86_64.manylinux_2_17_x86_64.manylinux2014_x86_64.whl (247 kB)\n",
            "\u001b[2K     \u001b[90m━━━━━━━━━━━━━━━━━━━━━━━━━━━━━━━━━━━━━━━━\u001b[0m \u001b[32m247.5/247.5 kB\u001b[0m \u001b[31m26.2 MB/s\u001b[0m eta \u001b[36m0:00:00\u001b[0m\n",
            "\u001b[?25hRequirement already satisfied: greenlet>=2.0.0 in /usr/local/lib/python3.10/dist-packages (from gevent>=22.10.2->locust<3,>=2.12.2->recommenders) (3.0.3)\n",
            "Requirement already satisfied: fsspec>=2023.5.0 in /usr/local/lib/python3.10/dist-packages (from huggingface-hub<1.0,>=0.19.3->transformers<5,>=4.27.0->recommenders) (2023.6.0)\n",
            "Requirement already satisfied: typing-extensions>=3.7.4.3 in /usr/local/lib/python3.10/dist-packages (from huggingface-hub<1.0,>=0.19.3->transformers<5,>=4.27.0->recommenders) (4.11.0)\n",
            "Requirement already satisfied: attrs>=22.2.0 in /usr/local/lib/python3.10/dist-packages (from hypothesis>=6.92.7->pandera[strategies]>=0.15.0->recommenders) (23.2.0)\n",
            "Requirement already satisfied: sortedcontainers<3.0.0,>=2.1.0 in /usr/local/lib/python3.10/dist-packages (from hypothesis>=6.92.7->pandera[strategies]>=0.15.0->recommenders) (2.4.0)\n",
            "Requirement already satisfied: exceptiongroup>=1.0.0 in /usr/local/lib/python3.10/dist-packages (from hypothesis>=6.92.7->pandera[strategies]>=0.15.0->recommenders) (1.2.1)\n",
            "Requirement already satisfied: anyio>=3.1.0 in /usr/local/lib/python3.10/dist-packages (from jupyter-server<3,>=2.4.0->notebook<8,>=7.0.0->recommenders) (3.7.1)\n",
            "Requirement already satisfied: argon2-cffi>=21.1 in /usr/local/lib/python3.10/dist-packages (from jupyter-server<3,>=2.4.0->notebook<8,>=7.0.0->recommenders) (23.1.0)\n",
            "Collecting jupyter-client>=7.4.4 (from jupyter-server<3,>=2.4.0->notebook<8,>=7.0.0->recommenders)\n",
            "  Downloading jupyter_client-8.6.1-py3-none-any.whl (105 kB)\n",
            "\u001b[2K     \u001b[90m━━━━━━━━━━━━━━━━━━━━━━━━━━━━━━━━━━━━━━━━\u001b[0m \u001b[32m105.9/105.9 kB\u001b[0m \u001b[31m8.7 MB/s\u001b[0m eta \u001b[36m0:00:00\u001b[0m\n",
            "\u001b[?25hRequirement already satisfied: jupyter-core!=5.0.*,>=4.12 in /usr/local/lib/python3.10/dist-packages (from jupyter-server<3,>=2.4.0->notebook<8,>=7.0.0->recommenders) (5.7.2)\n",
            "Collecting jupyter-events>=0.9.0 (from jupyter-server<3,>=2.4.0->notebook<8,>=7.0.0->recommenders)\n",
            "  Downloading jupyter_events-0.10.0-py3-none-any.whl (18 kB)\n",
            "Collecting jupyter-server-terminals>=0.4.4 (from jupyter-server<3,>=2.4.0->notebook<8,>=7.0.0->recommenders)\n",
            "  Downloading jupyter_server_terminals-0.5.3-py3-none-any.whl (13 kB)\n",
            "Requirement already satisfied: nbconvert>=6.4.4 in /usr/local/lib/python3.10/dist-packages (from jupyter-server<3,>=2.4.0->notebook<8,>=7.0.0->recommenders) (6.5.4)\n",
            "Requirement already satisfied: nbformat>=5.3.0 in /usr/local/lib/python3.10/dist-packages (from jupyter-server<3,>=2.4.0->notebook<8,>=7.0.0->recommenders) (5.10.4)\n",
            "Collecting overrides>=5.0 (from jupyter-server<3,>=2.4.0->notebook<8,>=7.0.0->recommenders)\n",
            "  Downloading overrides-7.7.0-py3-none-any.whl (17 kB)\n",
            "Requirement already satisfied: prometheus-client>=0.9 in /usr/local/lib/python3.10/dist-packages (from jupyter-server<3,>=2.4.0->notebook<8,>=7.0.0->recommenders) (0.20.0)\n",
            "Requirement already satisfied: send2trash>=1.8.2 in /usr/local/lib/python3.10/dist-packages (from jupyter-server<3,>=2.4.0->notebook<8,>=7.0.0->recommenders) (1.8.3)\n",
            "Requirement already satisfied: terminado>=0.8.3 in /usr/local/lib/python3.10/dist-packages (from jupyter-server<3,>=2.4.0->notebook<8,>=7.0.0->recommenders) (0.18.1)\n",
            "Requirement already satisfied: traitlets>=5.6.0 in /usr/local/lib/python3.10/dist-packages (from jupyter-server<3,>=2.4.0->notebook<8,>=7.0.0->recommenders) (5.7.1)\n",
            "Requirement already satisfied: websocket-client>=1.7 in /usr/local/lib/python3.10/dist-packages (from jupyter-server<3,>=2.4.0->notebook<8,>=7.0.0->recommenders) (1.8.0)\n",
            "Collecting async-lru>=1.0.0 (from jupyterlab<4.3,>=4.2.0->notebook<8,>=7.0.0->recommenders)\n",
            "  Downloading async_lru-2.0.4-py3-none-any.whl (6.1 kB)\n",
            "Collecting httpx>=0.25.0 (from jupyterlab<4.3,>=4.2.0->notebook<8,>=7.0.0->recommenders)\n",
            "  Downloading httpx-0.27.0-py3-none-any.whl (75 kB)\n",
            "\u001b[2K     \u001b[90m━━━━━━━━━━━━━━━━━━━━━━━━━━━━━━━━━━━━━━━━\u001b[0m \u001b[32m75.6/75.6 kB\u001b[0m \u001b[31m9.1 MB/s\u001b[0m eta \u001b[36m0:00:00\u001b[0m\n",
            "\u001b[?25hCollecting ipykernel>=6.5.0 (from jupyterlab<4.3,>=4.2.0->notebook<8,>=7.0.0->recommenders)\n",
            "  Downloading ipykernel-6.29.4-py3-none-any.whl (117 kB)\n",
            "\u001b[2K     \u001b[90m━━━━━━━━━━━━━━━━━━━━━━━━━━━━━━━━━━━━━━━━\u001b[0m \u001b[32m117.1/117.1 kB\u001b[0m \u001b[31m14.3 MB/s\u001b[0m eta \u001b[36m0:00:00\u001b[0m\n",
            "\u001b[?25hCollecting jupyter-lsp>=2.0.0 (from jupyterlab<4.3,>=4.2.0->notebook<8,>=7.0.0->recommenders)\n",
            "  Downloading jupyter_lsp-2.2.5-py3-none-any.whl (69 kB)\n",
            "\u001b[2K     \u001b[90m━━━━━━━━━━━━━━━━━━━━━━━━━━━━━━━━━━━━━━━━\u001b[0m \u001b[32m69.1/69.1 kB\u001b[0m \u001b[31m8.8 MB/s\u001b[0m eta \u001b[36m0:00:00\u001b[0m\n",
            "\u001b[?25hRequirement already satisfied: babel>=2.10 in /usr/local/lib/python3.10/dist-packages (from jupyterlab-server<3,>=2.27.1->notebook<8,>=7.0.0->recommenders) (2.15.0)\n",
            "Collecting json5>=0.9.0 (from jupyterlab-server<3,>=2.27.1->notebook<8,>=7.0.0->recommenders)\n",
            "  Downloading json5-0.9.25-py3-none-any.whl (30 kB)\n",
            "Requirement already satisfied: jsonschema>=4.18.0 in /usr/local/lib/python3.10/dist-packages (from jupyterlab-server<3,>=2.27.1->notebook<8,>=7.0.0->recommenders) (4.19.2)\n",
            "Requirement already satisfied: contourpy>=1.0.1 in /usr/local/lib/python3.10/dist-packages (from matplotlib!=3.6.1,>=3.4->seaborn<1,>=0.13.0->recommenders) (1.2.1)\n",
            "Requirement already satisfied: cycler>=0.10 in /usr/local/lib/python3.10/dist-packages (from matplotlib!=3.6.1,>=3.4->seaborn<1,>=0.13.0->recommenders) (0.12.1)\n",
            "Requirement already satisfied: fonttools>=4.22.0 in /usr/local/lib/python3.10/dist-packages (from matplotlib!=3.6.1,>=3.4->seaborn<1,>=0.13.0->recommenders) (4.51.0)\n",
            "Requirement already satisfied: kiwisolver>=1.0.1 in /usr/local/lib/python3.10/dist-packages (from matplotlib!=3.6.1,>=3.4->seaborn<1,>=0.13.0->recommenders) (1.4.5)\n",
            "Requirement already satisfied: pillow>=6.2.0 in /usr/local/lib/python3.10/dist-packages (from matplotlib!=3.6.1,>=3.4->seaborn<1,>=0.13.0->recommenders) (9.4.0)\n",
            "Requirement already satisfied: pyparsing>=2.3.1 in /usr/local/lib/python3.10/dist-packages (from matplotlib!=3.6.1,>=3.4->seaborn<1,>=0.13.0->recommenders) (3.1.2)\n",
            "Requirement already satisfied: charset-normalizer<4,>=2 in /usr/local/lib/python3.10/dist-packages (from requests->lightfm<2,>=1.17->recommenders) (3.3.2)\n",
            "Requirement already satisfied: idna<4,>=2.5 in /usr/local/lib/python3.10/dist-packages (from requests->lightfm<2,>=1.17->recommenders) (3.7)\n",
            "Collecting mypy-extensions>=0.3.0 (from typing-inspect>=0.6.0->pandera[strategies]>=0.15.0->recommenders)\n",
            "  Downloading mypy_extensions-1.0.0-py3-none-any.whl (4.7 kB)\n",
            "Requirement already satisfied: MarkupSafe>=2.1.1 in /usr/local/lib/python3.10/dist-packages (from Werkzeug>=2.0.0->locust<3,>=2.12.2->recommenders) (2.1.5)\n",
            "Requirement already satisfied: mpmath in /usr/local/lib/python3.10/dist-packages (from powerlaw->cornac<2,>=1.15.2->recommenders) (1.3.0)\n",
            "Requirement already satisfied: annotated-types>=0.4.0 in /usr/local/lib/python3.10/dist-packages (from pydantic->pandera[strategies]>=0.15.0->recommenders) (0.6.0)\n",
            "Requirement already satisfied: pydantic-core==2.18.2 in /usr/local/lib/python3.10/dist-packages (from pydantic->pandera[strategies]>=0.15.0->recommenders) (2.18.2)\n",
            "Requirement already satisfied: sniffio>=1.1 in /usr/local/lib/python3.10/dist-packages (from anyio>=3.1.0->jupyter-server<3,>=2.4.0->notebook<8,>=7.0.0->recommenders) (1.3.1)\n",
            "Requirement already satisfied: argon2-cffi-bindings in /usr/local/lib/python3.10/dist-packages (from argon2-cffi>=21.1->jupyter-server<3,>=2.4.0->notebook<8,>=7.0.0->recommenders) (21.2.0)\n",
            "Collecting httpcore==1.* (from httpx>=0.25.0->jupyterlab<4.3,>=4.2.0->notebook<8,>=7.0.0->recommenders)\n",
            "  Downloading httpcore-1.0.5-py3-none-any.whl (77 kB)\n",
            "\u001b[2K     \u001b[90m━━━━━━━━━━━━━━━━━━━━━━━━━━━━━━━━━━━━━━━━\u001b[0m \u001b[32m77.9/77.9 kB\u001b[0m \u001b[31m9.8 MB/s\u001b[0m eta \u001b[36m0:00:00\u001b[0m\n",
            "\u001b[?25hCollecting h11<0.15,>=0.13 (from httpcore==1.*->httpx>=0.25.0->jupyterlab<4.3,>=4.2.0->notebook<8,>=7.0.0->recommenders)\n",
            "  Downloading h11-0.14.0-py3-none-any.whl (58 kB)\n",
            "\u001b[2K     \u001b[90m━━━━━━━━━━━━━━━━━━━━━━━━━━━━━━━━━━━━━━━━\u001b[0m \u001b[32m58.3/58.3 kB\u001b[0m \u001b[31m7.8 MB/s\u001b[0m eta \u001b[36m0:00:00\u001b[0m\n",
            "\u001b[?25hCollecting comm>=0.1.1 (from ipykernel>=6.5.0->jupyterlab<4.3,>=4.2.0->notebook<8,>=7.0.0->recommenders)\n",
            "  Downloading comm-0.2.2-py3-none-any.whl (7.2 kB)\n",
            "Requirement already satisfied: debugpy>=1.6.5 in /usr/local/lib/python3.10/dist-packages (from ipykernel>=6.5.0->jupyterlab<4.3,>=4.2.0->notebook<8,>=7.0.0->recommenders) (1.6.6)\n",
            "Requirement already satisfied: ipython>=7.23.1 in /usr/local/lib/python3.10/dist-packages (from ipykernel>=6.5.0->jupyterlab<4.3,>=4.2.0->notebook<8,>=7.0.0->recommenders) (7.34.0)\n",
            "Requirement already satisfied: matplotlib-inline>=0.1 in /usr/local/lib/python3.10/dist-packages (from ipykernel>=6.5.0->jupyterlab<4.3,>=4.2.0->notebook<8,>=7.0.0->recommenders) (0.1.7)\n",
            "Requirement already satisfied: nest-asyncio in /usr/local/lib/python3.10/dist-packages (from ipykernel>=6.5.0->jupyterlab<4.3,>=4.2.0->notebook<8,>=7.0.0->recommenders) (1.6.0)\n",
            "Requirement already satisfied: jsonschema-specifications>=2023.03.6 in /usr/local/lib/python3.10/dist-packages (from jsonschema>=4.18.0->jupyterlab-server<3,>=2.27.1->notebook<8,>=7.0.0->recommenders) (2023.12.1)\n",
            "Requirement already satisfied: referencing>=0.28.4 in /usr/local/lib/python3.10/dist-packages (from jsonschema>=4.18.0->jupyterlab-server<3,>=2.27.1->notebook<8,>=7.0.0->recommenders) (0.35.1)\n",
            "Requirement already satisfied: rpds-py>=0.7.1 in /usr/local/lib/python3.10/dist-packages (from jsonschema>=4.18.0->jupyterlab-server<3,>=2.27.1->notebook<8,>=7.0.0->recommenders) (0.18.1)\n",
            "Requirement already satisfied: platformdirs>=2.5 in /usr/local/lib/python3.10/dist-packages (from jupyter-core!=5.0.*,>=4.12->jupyter-server<3,>=2.4.0->notebook<8,>=7.0.0->recommenders) (4.2.1)\n",
            "Collecting python-json-logger>=2.0.4 (from jupyter-events>=0.9.0->jupyter-server<3,>=2.4.0->notebook<8,>=7.0.0->recommenders)\n",
            "  Downloading python_json_logger-2.0.7-py3-none-any.whl (8.1 kB)\n",
            "Collecting rfc3339-validator (from jupyter-events>=0.9.0->jupyter-server<3,>=2.4.0->notebook<8,>=7.0.0->recommenders)\n",
            "  Downloading rfc3339_validator-0.1.4-py2.py3-none-any.whl (3.5 kB)\n",
            "Collecting rfc3986-validator>=0.1.1 (from jupyter-events>=0.9.0->jupyter-server<3,>=2.4.0->notebook<8,>=7.0.0->recommenders)\n",
            "  Downloading rfc3986_validator-0.1.1-py2.py3-none-any.whl (4.2 kB)\n",
            "Requirement already satisfied: lxml in /usr/local/lib/python3.10/dist-packages (from nbconvert>=6.4.4->jupyter-server<3,>=2.4.0->notebook<8,>=7.0.0->recommenders) (4.9.4)\n",
            "Requirement already satisfied: beautifulsoup4 in /usr/local/lib/python3.10/dist-packages (from nbconvert>=6.4.4->jupyter-server<3,>=2.4.0->notebook<8,>=7.0.0->recommenders) (4.12.3)\n",
            "Requirement already satisfied: bleach in /usr/local/lib/python3.10/dist-packages (from nbconvert>=6.4.4->jupyter-server<3,>=2.4.0->notebook<8,>=7.0.0->recommenders) (6.1.0)\n",
            "Requirement already satisfied: defusedxml in /usr/local/lib/python3.10/dist-packages (from nbconvert>=6.4.4->jupyter-server<3,>=2.4.0->notebook<8,>=7.0.0->recommenders) (0.7.1)\n",
            "Requirement already satisfied: entrypoints>=0.2.2 in /usr/local/lib/python3.10/dist-packages (from nbconvert>=6.4.4->jupyter-server<3,>=2.4.0->notebook<8,>=7.0.0->recommenders) (0.4)\n",
            "Requirement already satisfied: jupyterlab-pygments in /usr/local/lib/python3.10/dist-packages (from nbconvert>=6.4.4->jupyter-server<3,>=2.4.0->notebook<8,>=7.0.0->recommenders) (0.3.0)\n",
            "Requirement already satisfied: mistune<2,>=0.8.1 in /usr/local/lib/python3.10/dist-packages (from nbconvert>=6.4.4->jupyter-server<3,>=2.4.0->notebook<8,>=7.0.0->recommenders) (0.8.4)\n",
            "Requirement already satisfied: nbclient>=0.5.0 in /usr/local/lib/python3.10/dist-packages (from nbconvert>=6.4.4->jupyter-server<3,>=2.4.0->notebook<8,>=7.0.0->recommenders) (0.10.0)\n",
            "Requirement already satisfied: pandocfilters>=1.4.1 in /usr/local/lib/python3.10/dist-packages (from nbconvert>=6.4.4->jupyter-server<3,>=2.4.0->notebook<8,>=7.0.0->recommenders) (1.5.1)\n",
            "Requirement already satisfied: pygments>=2.4.1 in /usr/local/lib/python3.10/dist-packages (from nbconvert>=6.4.4->jupyter-server<3,>=2.4.0->notebook<8,>=7.0.0->recommenders) (2.16.1)\n",
            "Requirement already satisfied: tinycss2 in /usr/local/lib/python3.10/dist-packages (from nbconvert>=6.4.4->jupyter-server<3,>=2.4.0->notebook<8,>=7.0.0->recommenders) (1.3.0)\n",
            "Requirement already satisfied: fastjsonschema>=2.15 in /usr/local/lib/python3.10/dist-packages (from nbformat>=5.3.0->jupyter-server<3,>=2.4.0->notebook<8,>=7.0.0->recommenders) (2.19.1)\n",
            "Requirement already satisfied: ptyprocess in /usr/local/lib/python3.10/dist-packages (from terminado>=0.8.3->jupyter-server<3,>=2.4.0->notebook<8,>=7.0.0->recommenders) (0.7.0)\n",
            "Requirement already satisfied: setuptools in /usr/local/lib/python3.10/dist-packages (from zope.event->gevent>=22.10.2->locust<3,>=2.12.2->recommenders) (67.7.2)\n",
            "Collecting jedi>=0.16 (from ipython>=7.23.1->ipykernel>=6.5.0->jupyterlab<4.3,>=4.2.0->notebook<8,>=7.0.0->recommenders)\n",
            "  Downloading jedi-0.19.1-py2.py3-none-any.whl (1.6 MB)\n",
            "\u001b[2K     \u001b[90m━━━━━━━━━━━━━━━━━━━━━━━━━━━━━━━━━━━━━━━━\u001b[0m \u001b[32m1.6/1.6 MB\u001b[0m \u001b[31m63.5 MB/s\u001b[0m eta \u001b[36m0:00:00\u001b[0m\n",
            "\u001b[?25hRequirement already satisfied: decorator in /usr/local/lib/python3.10/dist-packages (from ipython>=7.23.1->ipykernel>=6.5.0->jupyterlab<4.3,>=4.2.0->notebook<8,>=7.0.0->recommenders) (4.4.2)\n",
            "Requirement already satisfied: pickleshare in /usr/local/lib/python3.10/dist-packages (from ipython>=7.23.1->ipykernel>=6.5.0->jupyterlab<4.3,>=4.2.0->notebook<8,>=7.0.0->recommenders) (0.7.5)\n",
            "Requirement already satisfied: prompt-toolkit!=3.0.0,!=3.0.1,<3.1.0,>=2.0.0 in /usr/local/lib/python3.10/dist-packages (from ipython>=7.23.1->ipykernel>=6.5.0->jupyterlab<4.3,>=4.2.0->notebook<8,>=7.0.0->recommenders) (3.0.43)\n",
            "Requirement already satisfied: backcall in /usr/local/lib/python3.10/dist-packages (from ipython>=7.23.1->ipykernel>=6.5.0->jupyterlab<4.3,>=4.2.0->notebook<8,>=7.0.0->recommenders) (0.2.0)\n",
            "Requirement already satisfied: pexpect>4.3 in /usr/local/lib/python3.10/dist-packages (from ipython>=7.23.1->ipykernel>=6.5.0->jupyterlab<4.3,>=4.2.0->notebook<8,>=7.0.0->recommenders) (4.9.0)\n",
            "Collecting fqdn (from jsonschema>=4.18.0->jupyterlab-server<3,>=2.27.1->notebook<8,>=7.0.0->recommenders)\n",
            "  Downloading fqdn-1.5.1-py3-none-any.whl (9.1 kB)\n",
            "Collecting isoduration (from jsonschema>=4.18.0->jupyterlab-server<3,>=2.27.1->notebook<8,>=7.0.0->recommenders)\n",
            "  Downloading isoduration-20.11.0-py3-none-any.whl (11 kB)\n",
            "Collecting jsonpointer>1.13 (from jsonschema>=4.18.0->jupyterlab-server<3,>=2.27.1->notebook<8,>=7.0.0->recommenders)\n",
            "  Downloading jsonpointer-2.4-py2.py3-none-any.whl (7.8 kB)\n",
            "Collecting uri-template (from jsonschema>=4.18.0->jupyterlab-server<3,>=2.27.1->notebook<8,>=7.0.0->recommenders)\n",
            "  Downloading uri_template-1.3.0-py3-none-any.whl (11 kB)\n",
            "Requirement already satisfied: webcolors>=1.11 in /usr/local/lib/python3.10/dist-packages (from jsonschema>=4.18.0->jupyterlab-server<3,>=2.27.1->notebook<8,>=7.0.0->recommenders) (1.13)\n",
            "Requirement already satisfied: cffi>=1.0.1 in /usr/local/lib/python3.10/dist-packages (from argon2-cffi-bindings->argon2-cffi>=21.1->jupyter-server<3,>=2.4.0->notebook<8,>=7.0.0->recommenders) (1.16.0)\n",
            "Requirement already satisfied: soupsieve>1.2 in /usr/local/lib/python3.10/dist-packages (from beautifulsoup4->nbconvert>=6.4.4->jupyter-server<3,>=2.4.0->notebook<8,>=7.0.0->recommenders) (2.5)\n",
            "Requirement already satisfied: webencodings in /usr/local/lib/python3.10/dist-packages (from bleach->nbconvert>=6.4.4->jupyter-server<3,>=2.4.0->notebook<8,>=7.0.0->recommenders) (0.5.1)\n",
            "Requirement already satisfied: pycparser in /usr/local/lib/python3.10/dist-packages (from cffi>=1.0.1->argon2-cffi-bindings->argon2-cffi>=21.1->jupyter-server<3,>=2.4.0->notebook<8,>=7.0.0->recommenders) (2.22)\n",
            "Requirement already satisfied: parso<0.9.0,>=0.8.3 in /usr/local/lib/python3.10/dist-packages (from jedi>=0.16->ipython>=7.23.1->ipykernel>=6.5.0->jupyterlab<4.3,>=4.2.0->notebook<8,>=7.0.0->recommenders) (0.8.4)\n",
            "Requirement already satisfied: wcwidth in /usr/local/lib/python3.10/dist-packages (from prompt-toolkit!=3.0.0,!=3.0.1,<3.1.0,>=2.0.0->ipython>=7.23.1->ipykernel>=6.5.0->jupyterlab<4.3,>=4.2.0->notebook<8,>=7.0.0->recommenders) (0.2.13)\n",
            "Collecting arrow>=0.15.0 (from isoduration->jsonschema>=4.18.0->jupyterlab-server<3,>=2.27.1->notebook<8,>=7.0.0->recommenders)\n",
            "  Downloading arrow-1.3.0-py3-none-any.whl (66 kB)\n",
            "\u001b[2K     \u001b[90m━━━━━━━━━━━━━━━━━━━━━━━━━━━━━━━━━━━━━━━━\u001b[0m \u001b[32m66.4/66.4 kB\u001b[0m \u001b[31m8.4 MB/s\u001b[0m eta \u001b[36m0:00:00\u001b[0m\n",
            "\u001b[?25hCollecting types-python-dateutil>=2.8.10 (from arrow>=0.15.0->isoduration->jsonschema>=4.18.0->jupyterlab-server<3,>=2.27.1->notebook<8,>=7.0.0->recommenders)\n",
            "  Downloading types_python_dateutil-2.9.0.20240316-py3-none-any.whl (9.7 kB)\n",
            "Building wheels for collected packages: lightfm, scikit-surprise\n",
            "  Building wheel for lightfm (setup.py) ... \u001b[?25l\u001b[?25hdone\n",
            "  Created wheel for lightfm: filename=lightfm-1.17-cp310-cp310-linux_x86_64.whl size=808333 sha256=71dcce00d4539c6a74f783ad2a5e669b9d2178d86806de9aa7dca9f97c7098eb\n",
            "  Stored in directory: /root/.cache/pip/wheels/4f/9b/7e/0b256f2168511d8fa4dae4fae0200fdbd729eb424a912ad636\n",
            "  Building wheel for scikit-surprise (pyproject.toml) ... \u001b[?25l\u001b[?25hdone\n",
            "  Created wheel for scikit-surprise: filename=scikit_surprise-1.1.4-cp310-cp310-linux_x86_64.whl size=2357237 sha256=f3f5c9eaca0ec59db71c94ca28b2c8bf0a0b9b563218a9b8f0d024fc6fca1798\n",
            "  Stored in directory: /root/.cache/pip/wheels/4b/3f/df/6acbf0a40397d9bf3ff97f582cc22fb9ce66adde75bc71fd54\n",
            "Successfully built lightfm scikit-surprise\n",
            "Installing collected packages: brotli, zope.interface, zope.event, uri-template, types-python-dateutil, typeguard, rfc3986-validator, rfc3339-validator, retrying, pyzmq, python-json-logger, overrides, mypy-extensions, multimethod, memory-profiler, jsonpointer, json5, jedi, hypothesis, h11, fqdn, ConfigArgParse, comm, async-lru, typing-inspect, scikit-surprise, jupyter-server-terminals, jupyter-client, httpcore, gevent, arrow, powerlaw, pandera, lightfm, isoduration, ipykernel, httpx, geventhttpclient, Flask-Login, Flask-Cors, locust, cornac, category-encoders, jupyter-events, jupyter-server, jupyterlab-server, jupyter-lsp, jupyterlab, notebook, recommenders\n",
            "  Attempting uninstall: pyzmq\n",
            "    Found existing installation: pyzmq 24.0.1\n",
            "    Uninstalling pyzmq-24.0.1:\n",
            "      Successfully uninstalled pyzmq-24.0.1\n",
            "  Attempting uninstall: jupyter-client\n",
            "    Found existing installation: jupyter-client 6.1.12\n",
            "    Uninstalling jupyter-client-6.1.12:\n",
            "      Successfully uninstalled jupyter-client-6.1.12\n",
            "  Attempting uninstall: ipykernel\n",
            "    Found existing installation: ipykernel 5.5.6\n",
            "    Uninstalling ipykernel-5.5.6:\n",
            "      Successfully uninstalled ipykernel-5.5.6\n",
            "  Attempting uninstall: jupyter-server\n",
            "    Found existing installation: jupyter-server 1.24.0\n",
            "    Uninstalling jupyter-server-1.24.0:\n",
            "      Successfully uninstalled jupyter-server-1.24.0\n",
            "  Attempting uninstall: notebook\n",
            "    Found existing installation: notebook 6.5.5\n",
            "    Uninstalling notebook-6.5.5:\n",
            "      Successfully uninstalled notebook-6.5.5\n",
            "\u001b[31mERROR: pip's dependency resolver does not currently take into account all the packages that are installed. This behaviour is the source of the following dependency conflicts.\n",
            "google-colab 1.0.0 requires ipykernel==5.5.6, but you have ipykernel 6.29.4 which is incompatible.\n",
            "google-colab 1.0.0 requires notebook==6.5.5, but you have notebook 7.2.0 which is incompatible.\u001b[0m\u001b[31m\n",
            "\u001b[0mSuccessfully installed ConfigArgParse-1.7 Flask-Cors-4.0.1 Flask-Login-0.6.3 arrow-1.3.0 async-lru-2.0.4 brotli-1.1.0 category-encoders-2.6.3 comm-0.2.2 cornac-1.18.0 fqdn-1.5.1 gevent-24.2.1 geventhttpclient-2.2.1 h11-0.14.0 httpcore-1.0.5 httpx-0.27.0 hypothesis-6.102.4 ipykernel-6.29.4 isoduration-20.11.0 jedi-0.19.1 json5-0.9.25 jsonpointer-2.4 jupyter-client-8.6.1 jupyter-events-0.10.0 jupyter-lsp-2.2.5 jupyter-server-2.14.0 jupyter-server-terminals-0.5.3 jupyterlab-4.2.0 jupyterlab-server-2.27.1 lightfm-1.17 locust-2.27.0 memory-profiler-0.61.0 multimethod-1.10 mypy-extensions-1.0.0 notebook-7.2.0 overrides-7.7.0 pandera-0.19.3 powerlaw-1.5 python-json-logger-2.0.7 pyzmq-26.0.3 recommenders-1.2.0 retrying-1.3.4 rfc3339-validator-0.1.4 rfc3986-validator-0.1.1 scikit-surprise-1.1.4 typeguard-4.2.1 types-python-dateutil-2.9.0.20240316 typing-inspect-0.9.0 uri-template-1.3.0 zope.event-5.0 zope.interface-6.4\n"
          ]
        }
      ]
    },
    {
      "cell_type": "code",
      "execution_count": null,
      "metadata": {
        "colab": {
          "base_uri": "https://localhost:8080/"
        },
        "id": "EpCyR8xfSEkS",
        "outputId": "b6382976-8d8c-4428-9f5c-8b008395913e"
      },
      "outputs": [
        {
          "output_type": "stream",
          "name": "stdout",
          "text": [
            "System version: 3.10.12 (main, Nov 20 2023, 15:14:05) [GCC 11.4.0]\n",
            "Pandas version: 2.0.3\n",
            "PySpark version: 3.5.1\n"
          ]
        }
      ],
      "source": [
        "import warnings\n",
        "warnings.simplefilter(action='ignore', category=FutureWarning)\n",
        "\n",
        "import sys\n",
        "from matplotlib import pyplot as plt\n",
        "import numpy as np\n",
        "import pandas as pd\n",
        "import seaborn as sns\n",
        "\n",
        "import pyspark\n",
        "from pyspark.sql import SparkSession\n",
        "from pyspark.ml.recommendation import ALS\n",
        "import pyspark.sql.functions as F\n",
        "from pyspark.sql.functions import col\n",
        "from pyspark.ml.tuning import CrossValidator\n",
        "from pyspark.sql.types import StructType, StructField\n",
        "from pyspark.sql.types import FloatType, IntegerType, LongType\n",
        "\n",
        "from recommenders.datasets import movielens\n",
        "from recommenders.utils.spark_utils import start_or_get_spark\n",
        "from recommenders.evaluation.spark_evaluation import SparkRankingEvaluation, SparkRatingEvaluation\n",
        "from recommenders.tuning.parameter_sweep import generate_param_grid\n",
        "from recommenders.datasets.spark_splitters import spark_random_split\n",
        "\n",
        "print(f\"System version: {sys.version}\")\n",
        "print(f\"Pandas version: {pd.__version__}\")\n",
        "print(f\"PySpark version: {pyspark.__version__}\")"
      ]
    },
    {
      "cell_type": "code",
      "source": [
        "MOVIELENS_DATA_SIZE = \"100k\"\n",
        "\n",
        "COL_USER = \"UserId\"\n",
        "COL_ITEM = \"MovieId\"\n",
        "COL_RATING = \"Rating\"\n",
        "COL_PREDICTION = \"prediction\"\n",
        "COL_TIMESTAMP = \"Timestamp\""
      ],
      "metadata": {
        "id": "usTgMSy7TziF"
      },
      "execution_count": null,
      "outputs": []
    },
    {
      "cell_type": "code",
      "source": [
        "schema = StructType(\n",
        "    (\n",
        "        StructField(COL_USER, IntegerType()),\n",
        "        StructField(COL_ITEM, IntegerType()),\n",
        "        StructField(COL_RATING, FloatType()),\n",
        "        StructField(COL_TIMESTAMP, LongType()),\n",
        "    )\n",
        ")"
      ],
      "metadata": {
        "id": "UdbhWtxyT5__"
      },
      "execution_count": null,
      "outputs": []
    },
    {
      "cell_type": "code",
      "source": [
        "RANK = 10\n",
        "MAX_ITER = 15\n",
        "REG_PARAM = 0.05"
      ],
      "metadata": {
        "id": "N5R4QzxvT-RT"
      },
      "execution_count": null,
      "outputs": []
    },
    {
      "cell_type": "code",
      "source": [
        "K = 10"
      ],
      "metadata": {
        "id": "eDdIi3LmUBdc"
      },
      "execution_count": null,
      "outputs": []
    },
    {
      "cell_type": "code",
      "source": [
        "spark = start_or_get_spark(\"ALS Deep Dive\", memory=\"16g\")\n",
        "spark.conf.set(\"spark.sql.analyzer.failAmbiguousSelfJoin\", \"false\")"
      ],
      "metadata": {
        "id": "UFIy9AkaUDEi"
      },
      "execution_count": null,
      "outputs": []
    },
    {
      "cell_type": "code",
      "source": [
        "dfs = movielens.load_spark_df(spark=spark, size=MOVIELENS_DATA_SIZE, schema=schema)"
      ],
      "metadata": {
        "colab": {
          "base_uri": "https://localhost:8080/"
        },
        "id": "svR5lEm-UM1_",
        "outputId": "8c8cd31a-ad08-426f-fdd3-d6c8564cb55e"
      },
      "execution_count": null,
      "outputs": [
        {
          "output_type": "stream",
          "name": "stderr",
          "text": [
            "100%|██████████| 4.81k/4.81k [00:00<00:00, 14.4kKB/s]\n"
          ]
        }
      ]
    },
    {
      "cell_type": "code",
      "source": [
        "dfs_train, dfs_test = spark_random_split(dfs, ratio=0.75, seed=42)"
      ],
      "metadata": {
        "id": "JZyCg9qOUbK_"
      },
      "execution_count": null,
      "outputs": []
    },
    {
      "cell_type": "code",
      "source": [
        "als = ALS(\n",
        "    maxIter=MAX_ITER,\n",
        "    rank=RANK,\n",
        "    regParam=REG_PARAM,\n",
        "    userCol=COL_USER,\n",
        "    itemCol=COL_ITEM,\n",
        "    ratingCol=COL_RATING,\n",
        "    coldStartStrategy=\"drop\"\n",
        ")\n",
        "\n",
        "model = als.fit(dfs_train)"
      ],
      "metadata": {
        "id": "xhlwV44fUSFg"
      },
      "execution_count": null,
      "outputs": []
    },
    {
      "cell_type": "code",
      "source": [
        "dfs_pred = model.transform(dfs_test).drop(COL_RATING)\n",
        "dfs_pred.show()"
      ],
      "metadata": {
        "id": "l3IZq8o3Una1",
        "colab": {
          "base_uri": "https://localhost:8080/"
        },
        "outputId": "de9ae9f6-cd52-4a8e-bea2-62ca89666c6a"
      },
      "execution_count": null,
      "outputs": [
        {
          "output_type": "stream",
          "name": "stdout",
          "text": [
            "+------+-------+---------+----------+\n",
            "|UserId|MovieId|Timestamp|prediction|\n",
            "+------+-------+---------+----------+\n",
            "|   148|      8|877020297| 3.5447783|\n",
            "|   148|     56|877398212| 2.9786205|\n",
            "|   148|     71|877019251| 3.8646007|\n",
            "|   148|     78|877399018| 2.1544406|\n",
            "|   148|    133|877019251| 2.2809348|\n",
            "|   148|    169|877020297| 4.3139653|\n",
            "|   148|    172|877016513| 4.9057045|\n",
            "|   148|    194|877015066|  4.385404|\n",
            "|   148|    222|877398901| 3.9540138|\n",
            "|   148|    228|877016514| 4.7031655|\n",
            "|   148|    357|877016735| 3.0201824|\n",
            "|   148|    432|877019698| 4.3904095|\n",
            "|   148|    474|877019882| 3.9106882|\n",
            "|   148|    529|877398901| 4.5425577|\n",
            "|   148|    588|877399018| 2.7352962|\n",
            "|   148|    713|877021535| 4.2782464|\n",
            "|   463|      7|877385180| 2.6784225|\n",
            "|   463|     10|890453075| 3.0508723|\n",
            "|   463|     20|877385590| 4.1145506|\n",
            "|   463|     24|877385731|  2.507069|\n",
            "+------+-------+---------+----------+\n",
            "only showing top 20 rows\n",
            "\n"
          ]
        }
      ]
    },
    {
      "cell_type": "code",
      "source": [
        "evaluations = SparkRatingEvaluation(\n",
        "    dfs_test,\n",
        "    dfs_pred,\n",
        "    col_user=COL_USER,\n",
        "    col_item=COL_ITEM,\n",
        "    col_rating=COL_RATING,\n",
        "    col_prediction=COL_PREDICTION\n",
        ")\n",
        "\n",
        "print(\n",
        "    \"RMSE score = {}\".format(evaluations.rmse()),\n",
        "    \"MAE score = {}\".format(evaluations.mae()),\n",
        "    \"R2 score = {}\".format(evaluations.rsquared()),\n",
        "    \"Explained variance score = {}\".format(evaluations.exp_var()),\n",
        "    sep=\"\\n\"\n",
        ")"
      ],
      "metadata": {
        "colab": {
          "base_uri": "https://localhost:8080/"
        },
        "id": "fQYgAaQRUyKz",
        "outputId": "ccdc57e6-ac20-4c6b-e244-46ac8dabc5fe"
      },
      "execution_count": null,
      "outputs": [
        {
          "output_type": "stream",
          "name": "stdout",
          "text": [
            "RMSE score = 0.968722941905609\n",
            "MAE score = 0.7516804984245017\n",
            "R2 score = 0.2584448544206047\n",
            "Explained variance score = 0.2633202631789433\n"
          ]
        }
      ]
    },
    {
      "cell_type": "code",
      "source": [
        "# Get the cross join of all user-item pairs and score them.\n",
        "users = dfs_train.select(COL_USER).distinct()\n",
        "items = dfs_train.select(COL_ITEM).distinct()\n",
        "user_item = users.crossJoin(items)\n",
        "dfs_pred = model.transform(user_item)\n",
        "\n",
        "# Remove seen items.\n",
        "dfs_pred_exclude_train = dfs_pred.alias(\"pred\").join(\n",
        "    dfs_train.alias(\"train\"),\n",
        "    (dfs_pred[COL_USER] == dfs_train[COL_USER]) & (dfs_pred[COL_ITEM] == dfs_train[COL_ITEM]),\n",
        "    how='outer'\n",
        ")\n",
        "\n",
        "dfs_pred_final = dfs_pred_exclude_train.filter(dfs_pred_exclude_train[\"train.Rating\"].isNull()) \\\n",
        "    .select('pred.' + COL_USER, 'pred.' + COL_ITEM, 'pred.' + \"prediction\")\n",
        "\n",
        "dfs_pred_final.show()"
      ],
      "metadata": {
        "colab": {
          "base_uri": "https://localhost:8080/"
        },
        "id": "CIExSAvNVNZg",
        "outputId": "c8753fe2-9e1a-4625-aac1-d99fe5b55c5b"
      },
      "execution_count": null,
      "outputs": [
        {
          "output_type": "stream",
          "name": "stdout",
          "text": [
            "+------+-------+----------+\n",
            "|UserId|MovieId|prediction|\n",
            "+------+-------+----------+\n",
            "|     1|      3| 3.1354642|\n",
            "|     1|      7|  4.583827|\n",
            "|     1|      9|   4.10964|\n",
            "|     1|     20| 3.5110586|\n",
            "|     1|     33| 3.4409182|\n",
            "|     1|     36| 1.2009766|\n",
            "|     1|     43|  2.502841|\n",
            "|     1|     46| 3.7599394|\n",
            "|     1|     48|  4.483214|\n",
            "|     1|     50|  5.048281|\n",
            "|     1|     52|  3.880335|\n",
            "|     1|     63| 2.5073838|\n",
            "|     1|     65|  3.140083|\n",
            "|     1|     84| 2.1475644|\n",
            "|     1|    113|   4.56666|\n",
            "|     1|    117|  3.431176|\n",
            "|     1|    118| 2.9378986|\n",
            "|     1|    119|  4.606138|\n",
            "|     1|    161|  3.062041|\n",
            "|     1|    190|  4.058028|\n",
            "+------+-------+----------+\n",
            "only showing top 20 rows\n",
            "\n"
          ]
        }
      ]
    },
    {
      "cell_type": "code",
      "source": [
        "evaluations = SparkRankingEvaluation(\n",
        "    dfs_test,\n",
        "    dfs_pred_final,\n",
        "    col_user=COL_USER,\n",
        "    col_item=COL_ITEM,\n",
        "    col_rating=COL_RATING,\n",
        "    col_prediction=COL_PREDICTION,\n",
        "    k=K\n",
        ")\n",
        "\n",
        "print(\n",
        "    \"Precision@k = {}\".format(evaluations.precision_at_k()),\n",
        "    \"Recall@k = {}\".format(evaluations.recall_at_k()),\n",
        "    \"NDCG@k = {}\".format(evaluations.ndcg_at_k()),\n",
        "    \"Mean average precision = {}\".format(evaluations.map_at_k()),\n",
        "    sep=\"\\n\"\n",
        ")"
      ],
      "metadata": {
        "colab": {
          "base_uri": "https://localhost:8080/"
        },
        "id": "xoOboi6MU7QD",
        "outputId": "6ca978f3-dcdf-4dd2-fb8e-efe226b176ed"
      },
      "execution_count": null,
      "outputs": [
        {
          "output_type": "stream",
          "name": "stdout",
          "text": [
            "Precision@k = 0.047507953340402934\n",
            "Recall@k = 0.01632822137938396\n",
            "NDCG@k = 0.04260275989923112\n",
            "Mean average precision = 0.014543328505354483\n"
          ]
        }
      ]
    },
    {
      "cell_type": "code",
      "source": [
        "param_dict = {\n",
        "    \"rank\": [10, 15, 20],\n",
        "    \"regParam\": [0.001, 0.1, 1.0]\n",
        "}"
      ],
      "metadata": {
        "id": "4icDxZEPVfPa"
      },
      "execution_count": null,
      "outputs": []
    },
    {
      "cell_type": "code",
      "source": [
        "param_grid = generate_param_grid(param_dict)"
      ],
      "metadata": {
        "id": "FRhWVutxVjDE"
      },
      "execution_count": null,
      "outputs": []
    },
    {
      "cell_type": "code",
      "source": [
        "rmse_score = []\n",
        "\n",
        "for g in param_grid:\n",
        "    als = ALS(\n",
        "        userCol=COL_USER,\n",
        "        itemCol=COL_ITEM,\n",
        "        ratingCol=COL_RATING,\n",
        "        coldStartStrategy=\"drop\",\n",
        "        **g\n",
        "    )\n",
        "\n",
        "    model = als.fit(dfs_train)\n",
        "\n",
        "    dfs_pred = model.transform(dfs_test).drop(COL_RATING)\n",
        "\n",
        "    evaluations = SparkRatingEvaluation(\n",
        "        dfs_test,\n",
        "        dfs_pred,\n",
        "        col_user=COL_USER,\n",
        "        col_item=COL_ITEM,\n",
        "        col_rating=COL_RATING,\n",
        "        col_prediction=COL_PREDICTION\n",
        "    )\n",
        "\n",
        "    rmse_score.append(evaluations.rmse())\n",
        "\n",
        "rmse_score = [float('%.4f' % x) for x in rmse_score]\n",
        "rmse_score_array = np.reshape(rmse_score, (len(param_dict[\"rank\"]), len(param_dict[\"regParam\"])))\n",
        "\n",
        "rmse_df = pd.DataFrame(data=rmse_score_array, index=pd.Index(param_dict[\"rank\"], name=\"rank\"),\n",
        "                       columns=pd.Index(param_dict[\"regParam\"], name=\"reg. parameter\"))\n",
        "fig, ax = plt.subplots()\n",
        "sns.heatmap(rmse_df, cbar=False, annot=True, fmt=\".4g\")"
      ],
      "metadata": {
        "colab": {
          "base_uri": "https://localhost:8080/",
          "height": 466
        },
        "id": "QXXir0fCVrfO",
        "outputId": "19ada1ce-0390-4e92-b97b-b808a014cdc3"
      },
      "execution_count": null,
      "outputs": [
        {
          "output_type": "execute_result",
          "data": {
            "text/plain": [
              "<Axes: xlabel='reg. parameter', ylabel='rank'>"
            ]
          },
          "metadata": {},
          "execution_count": 24
        },
        {
          "output_type": "display_data",
          "data": {
            "text/plain": [
              "<Figure size 640x480 with 1 Axes>"
            ],
            "image/png": "[encoded data removed]"
          },
          "metadata": {}
        }
      ]
    },
    {
      "cell_type": "code",
      "source": [
        "dfs_rec = model.recommendForAllUsers(10)\n",
        "dfs_rec.show(10)"
      ],
      "metadata": {
        "colab": {
          "base_uri": "https://localhost:8080/"
        },
        "id": "b12ZhZsfWNsW",
        "outputId": "d2174116-0e3e-4dc1-98e5-47a783e2e709"
      },
      "execution_count": null,
      "outputs": [
        {
          "output_type": "stream",
          "name": "stdout",
          "text": [
            "+------+--------------------+\n",
            "|UserId|     recommendations|\n",
            "+------+--------------------+\n",
            "|     1|[{1536, 3.891199}...|\n",
            "|     3|[{1536, 3.106384}...|\n",
            "|     5|[{1536, 3.1345372...|\n",
            "|     6|[{1536, 3.7354307...|\n",
            "|     9|[{1536, 4.2483497...|\n",
            "|    12|[{1536, 4.447189}...|\n",
            "|    13|[{1536, 3.3997421...|\n",
            "|    15|[{1536, 3.1361632...|\n",
            "|    16|[{1536, 4.5658073...|\n",
            "|    17|[{1536, 3.0498176...|\n",
            "+------+--------------------+\n",
            "only showing top 10 rows\n",
            "\n"
          ]
        }
      ]
    },
    {
      "cell_type": "code",
      "source": [
        "users = dfs_train.select(als.getUserCol()).distinct().limit(3)\n",
        "\n",
        "dfs_rec_subset = model.recommendForUserSubset(users, 10)\n",
        "dfs_rec_subset.show(10)"
      ],
      "metadata": {
        "colab": {
          "base_uri": "https://localhost:8080/"
        },
        "id": "b-7AJ2qAWWfu",
        "outputId": "46e0b1bb-11b7-45cb-d7d9-bd6ca87b2d35"
      },
      "execution_count": null,
      "outputs": [
        {
          "output_type": "stream",
          "name": "stdout",
          "text": [
            "+------+--------------------+\n",
            "|UserId|     recommendations|\n",
            "+------+--------------------+\n",
            "|   471|[{1536, 3.3287528...|\n",
            "|   463|[{1536, 3.1125836...|\n",
            "|   148|[{1536, 3.9075732...|\n",
            "+------+--------------------+\n",
            "\n"
          ]
        }
      ]
    },
    {
      "cell_type": "code",
      "source": [
        "spark.stop()"
      ],
      "metadata": {
        "id": "JRPQagi_WcN2"
      },
      "execution_count": null,
      "outputs": []
    }
  ]
}